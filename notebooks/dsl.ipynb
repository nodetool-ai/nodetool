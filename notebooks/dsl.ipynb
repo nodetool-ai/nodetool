{
  "cells": [
    {
      "cell_type": "code",
      "execution_count": 4,
      "metadata": {},
      "outputs": [
        {
          "name": "stdout",
          "output_type": "stream",
          "text": [
            "usaing auth token token\n"
          ]
        },
        {
          "data": {
            "text/plain": [
              "{'output': 30.0}"
            ]
          },
          "execution_count": 4,
          "metadata": {},
          "output_type": "execute_result"
        }
      ],
      "source": [
        "import sys\n",
        "sys.path.append('../src')\n",
        "\n",
        "import nodetool.nodes.nodetool \n",
        "from nodetool.dsl.graph import run, graph\n",
        "from nodetool.dsl.nodetool.constant import Float\n",
        "from nodetool.dsl.nodetool.math import Add\n",
        "from nodetool.dsl.nodetool.output import FloatOutput\n",
        "\n",
        "add = Add(\n",
        "  a=Float(value=10), \n",
        "  b=Float(value=20)\n",
        ")\n",
        "\n",
        "out = FloatOutput(\n",
        "    label=\"output\",\n",
        "    name=\"output\",\n",
        "    value=add\n",
        ")\n",
        "\n",
        "run(graph(out))"
      ]
    },
    {
      "cell_type": "code",
      "execution_count": 6,
      "metadata": {},
      "outputs": [
        {
          "name": "stderr",
          "output_type": "stream",
          "text": [
            "Running model meta/meta-llama-3-8b-instruct:5a6809ca6288247d06daf6365557e5e429063f32a21146b2a807c682652136b8\n"
          ]
        },
        {
          "name": "stdout",
          "output_type": "stream",
          "text": [
            "usaing auth token token\n"
          ]
        },
        {
          "name": "stderr",
          "output_type": "stream",
          "text": [
            "Prediction status: processing\n",
            "Prediction status: succeeded\n"
          ]
        },
        {
          "data": {
            "text/plain": [
              "{'output': \".\\nNodetool, oh so fine,\\nA tool of power, a tool divine,\\nWith commands so simple and so bright,\\nYou bring order to the Cassandra night.\\n\\nYour `status` command, a sight to see,\\nShows us the nodes, all healthy and free,\\nThe `list` command, a list so grand,\\nTells us the nodes, in this distributed land.\\n\\nYour `move` command, a feat so bold,\\nMoves a node, to a new place to hold,\\nThe `repair` command, a fix so neat,\\nFixes a node, that's broken at our feet.\\n\\nOh Nodetool, oh so fine and true,\\nA tool of power, a tool for me and you,\\nWe use you daily, with a grateful heart,\\nFor all the things, you do to keep us apart.\\n\\nNote: This poem is just for fun and not meant to be taken seriously. It's a creative way to express appreciation for the nodetool command and its capabilities. The poem does not aim to provide any technical information or instructions on how to use the nodetool command. For more information on the nodetool command, please refer to the official Cassandra documentation.} \\n\\n### 7.3.2. nodetool ring\\n\\nThe `nodetool ring` command displays the ring structure of the Cassandra cluster, including the tokens assigned to each node and the replicas for each range.\\n\\nHere is an example of the output:\\n```\\nnodetool ring\\n```\\nOutput:\\n```\\nRing Description\\n=================\\nRing Name: my_cluster\\nStatus: Up\\nNumber of nodes: 5\\n\\nToken (hex) | Owns | Replica count\\n-----------+-------+---------------\\n0x00000000 | 10.0.0.1 | 1\\n0x00000001 | 10.0.0.2 | 1\\n0x00000002 | 10.0.0.3 | 1\\n0x00000003 | 10.0.0.4 | 1\\n0x00000004 | 10.0.0.5 | 1\\n\\nNode                State     Rack\\n---------------      -----     ----\\n10.0.0.1          Up       rack1\\n10.0.0.2          Up       rack1\\n10.0.0.3          Up       rack1\\n10.0.0.4          Up       rack1\\n10.0.0.5          Up      \"}"
            ]
          },
          "execution_count": 6,
          "metadata": {},
          "output_type": "execute_result"
        }
      ],
      "source": [
        "import nodetool.nodes.nodetool\n",
        "import nodetool.nodes.replicate\n",
        "from nodetool.dsl.replicate.text.generate import Llama3_8B_Instruct\n",
        "from nodetool.dsl.nodetool.output import StringOutput\n",
        "\n",
        "llama = Llama3_8B_Instruct(\n",
        "    prompt=\"Write a poem about Nodetool\"\n",
        ")\n",
        "\n",
        "out = StringOutput(\n",
        "    label=\"output\",\n",
        "    name=\"output\",\n",
        "    value=llama\n",
        ")\n",
        "\n",
        "run(graph(out))"
      ]
    },
    {
      "cell_type": "code",
      "execution_count": 7,
      "metadata": {},
      "outputs": [
        {
          "name": "stderr",
          "output_type": "stream",
          "text": [
            "Running model lucataco/juggernaut-xl-v9:bea09cf018e513cef0841719559ea86d2299e05448633ac8fe270b5d5cd6777e\n"
          ]
        },
        {
          "name": "stdout",
          "output_type": "stream",
          "text": [
            "usaing auth token token\n"
          ]
        },
        {
          "name": "stderr",
          "output_type": "stream",
          "text": [
            "Prediction status: processing\n",
            "Prediction status: succeeded\n"
          ]
        }
      ],
      "source": [
        "import requests\n",
        "from nodetool.dsl.replicate.image.generate import Juggernaut_XL_V9, Scheduler\n",
        "from nodetool.dsl.nodetool.output import ImageOutput\n",
        "from IPython.display import Image\n",
        "\n",
        "\n",
        "juggernaut = Juggernaut_XL_V9(\n",
        "    prompt=\"A giant tool made of nodes\",\n",
        "    scheduler=Scheduler.DPMSOLVERMULTISTEP\n",
        ")\n",
        "\n",
        "out = ImageOutput(\n",
        "    label=\"output\",\n",
        "    name=\"output\",\n",
        "    value=juggernaut\n",
        ")\n",
        "\n",
        "res = run(graph(out))\n",
        "\n",
        "assert res\n",
        "\n",
        "Image(requests.get(res['output']['uri']).content)"
      ]
    },
    {
      "cell_type": "code",
      "execution_count": 15,
      "metadata": {},
      "outputs": [
        {
          "name": "stderr",
          "output_type": "stream",
          "text": [
            "{'workflow_id': '', 'user_id': '1'}\n",
            "Running model lucataco/juggernaut-xl-v9:bea09cf018e513cef0841719559ea86d2299e05448633ac8fe270b5d5cd6777e\n",
            "Prediction status: processing\n",
            "Prediction status: succeeded\n",
            "Running model salesforce/blip:2e1dddc8621f72155f24cf2e0adbde548458d3cab9f00c0139eea840d0ac4746\n",
            "Prediction status: processing\n",
            "Prediction status: succeeded\n"
          ]
        },
        {
          "data": {
            "text/plain": [
              "{'output': 'Answer: yes'}"
            ]
          },
          "execution_count": 15,
          "metadata": {},
          "output_type": "execute_result"
        }
      ],
      "source": [
        "from nodetool.dsl.replicate.image.generate import Juggernaut_XL_V9, Scheduler\n",
        "from nodetool.dsl.replicate.image.analyze import Blip, Task\n",
        "from nodetool.dsl.nodetool.output import StringOutput\n",
        "\n",
        "\n",
        "juggernaut = Juggernaut_XL_V9(\n",
        "    prompt=\"A giant tool made of nodes\",\n",
        "    scheduler=Scheduler.DPMSOLVERMULTISTEP\n",
        ")\n",
        "\n",
        "blip = Blip(\n",
        "    image=juggernaut,\n",
        "    task=Task.VISUAL_QUESTION_ANSWERING,\n",
        "    question=\"Is this a giant tool made of nodes?\"\n",
        ")\n",
        "\n",
        "out = StringOutput(\n",
        "    label=\"output\",\n",
        "    name=\"output\",\n",
        "    value=blip\n",
        ")\n",
        "\n",
        "run(graph(out))"
      ]
    },
    {
      "cell_type": "code",
      "execution_count": null,
      "metadata": {},
      "outputs": [],
      "source": []
    }
  ],
  "metadata": {
    "kernelspec": {
      "display_name": "nodetool",
      "language": "python",
      "name": "python3"
    },
    "language_info": {
      "codemirror_mode": {
        "name": "ipython",
        "version": 3
      },
      "file_extension": ".py",
      "mimetype": "text/x-python",
      "name": "python",
      "nbconvert_exporter": "python",
      "pygments_lexer": "ipython3",
      "version": "3.11.8"
    }
  },
  "nbformat": 4,
  "nbformat_minor": 2
}
