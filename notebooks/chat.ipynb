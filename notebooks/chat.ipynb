{
 "cells": [
  {
   "cell_type": "code",
   "execution_count": 1,
   "metadata": {},
   "outputs": [
    {
     "name": "stderr",
     "output_type": "stream",
     "text": [
      "/usr/local/Cellar/conda/envs/genflow/lib/python3.11/site-packages/pydantic/_internal/_fields.py:200: UserWarning: Field name \"json\" in \"Body_create_api_assets__post\" shadows an attribute in parent \"BaseModel\"\n",
      "  warnings.warn(\n",
      "/usr/local/Cellar/conda/envs/genflow/lib/python3.11/site-packages/pydantic/_internal/_fields.py:160: UserWarning: Field \"model_info\" has conflict with protected namespace \"model_\".\n",
      "\n",
      "You may be able to resolve this warning by setting `model_config['protected_namespaces'] = ()`.\n",
      "  warnings.warn(\n",
      "/usr/local/Cellar/conda/envs/genflow/lib/python3.11/site-packages/pydantic/_internal/_fields.py:200: UserWarning: Field name \"json\" in \"Body_create_api_assets__post\" shadows an attribute in parent \"BaseModel\"\n",
      "  warnings.warn(\n"
     ]
    },
    {
     "name": "stdout",
     "output_type": "stream",
     "text": [
      "Creating completion with model gpt-4o\n"
     ]
    },
    {
     "data": {
      "text/plain": [
       "Message(type='message', id='a917ebd630a111efa7300000411569a1', thread_id='thread456', user_id=None, tool_call_id=None, role='assistant', name='', content=None, tool_calls=[ToolCall(id='call_XJefVOYtlEnGYtDTSZjHExDQ', function_name='create_record', function_args={'name': 'John Doe', 'age': 30, 'city': 'New York'}, function_response=None)], created_at='2024-06-22T16:13:55.655955')"
      ]
     },
     "execution_count": 1,
     "metadata": {},
     "output_type": "execute_result"
    }
   ],
   "source": [
    "from nodetool.workflows.processing_context import ProcessingContext\n",
    "from nodetool.metadata.types import ColumnDef, Message, FunctionModel\n",
    "from nodetool.common.chat import process_messages, process_tool_calls\n",
    "from nodetool.common.chat import CreateRecordTool\n",
    "\n",
    "\n",
    "context = ProcessingContext(user_id=\"user123\", auth_token=\"token123\")\n",
    "thread_id = \"thread456\"\n",
    "model = FunctionModel(name=\"gpt-4o\")\n",
    "\n",
    "columns = [\n",
    "    ColumnDef(name=\"name\", data_type=\"string\", description=\"Person's name\"),\n",
    "    ColumnDef(name=\"age\", data_type=\"int\", description=\"Person's age\"),\n",
    "    ColumnDef(name=\"city\", data_type=\"string\", description=\"City of residence\")\n",
    "]\n",
    "\n",
    "tools = [CreateRecordTool(columns)]\n",
    "\n",
    "# Example messages\n",
    "messages = [\n",
    "    Message(role=\"system\", content=\"You are a helpful assistant that creates records about people.\"),\n",
    "    Message(role=\"user\", content=\"Create a record for John Doe, who is 30 years old and lives in New York.\")\n",
    "]\n",
    "\n",
    "# Process messages\n",
    "assistant_message = await process_messages(\n",
    "    context=context,\n",
    "    messages=messages,\n",
    "    model=model,\n",
    "    thread_id=thread_id,\n",
    "    tools=tools\n",
    ")\n",
    "\n",
    "assistant_message"
   ]
  },
  {
   "cell_type": "code",
   "execution_count": 3,
   "metadata": {},
   "outputs": [
    {
     "name": "stdout",
     "output_type": "stream",
     "text": [
      "******* [[TOOL]] create_record *******\n",
      "******* [[TOOL RESPONSE]] {'name': 'John Doe', 'age': 30, 'city': 'New York'} *******\n"
     ]
    }
   ],
   "source": [
    "response = await process_tool_calls(\n",
    "    context=context,\n",
    "    thread_id=thread_id,\n",
    "    message=assistant_message,\n",
    "    tools=tools\n",
    ")"
   ]
  },
  {
   "cell_type": "code",
   "execution_count": 5,
   "metadata": {},
   "outputs": [
    {
     "data": {
      "text/plain": [
       "Message(type='message', id='6c9aebde308f11efae0800002c60059c', thread_id='thread456', user_id=None, tool_call_id=None, role='assistant', name='', content='A record has been created for John Doe, who is 30 years old and lives in New York.', tool_calls=[], created_at='2024-06-22T14:03:23.232327')"
      ]
     },
     "execution_count": 5,
     "metadata": {},
     "output_type": "execute_result"
    }
   ],
   "source": [
    "response"
   ]
  },
  {
   "cell_type": "code",
   "execution_count": null,
   "metadata": {},
   "outputs": [],
   "source": []
  }
 ],
 "metadata": {
  "kernelspec": {
   "display_name": "genflow",
   "language": "python",
   "name": "python3"
  },
  "language_info": {
   "codemirror_mode": {
    "name": "ipython",
    "version": 3
   },
   "file_extension": ".py",
   "mimetype": "text/x-python",
   "name": "python",
   "nbconvert_exporter": "python",
   "pygments_lexer": "ipython3",
   "version": "3.11.8"
  }
 },
 "nbformat": 4,
 "nbformat_minor": 2
}
