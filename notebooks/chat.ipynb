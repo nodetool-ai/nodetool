{
 "cells": [
  {
   "cell_type": "code",
   "execution_count": 2,
   "metadata": {},
   "outputs": [
    {
     "name": "stderr",
     "output_type": "stream",
     "text": [
      "INFO:httpx:HTTP Request: POST http://localhost:11434/api/chat \"HTTP/1.1 200 OK\"\n"
     ]
    },
    {
     "data": {
      "text/plain": [
       "{'model': 'qwen2.5:1.5b',\n",
       " 'created_at': '2024-10-13T07:49:05.617089079Z',\n",
       " 'message': {'role': 'assistant',\n",
       "  'content': 'Nodetool is a no-code AI workflow platform designed specifically for simplifying the creation and execution of complex workflows using artificial intelligence. This tool integrates various AI models for multimedia processing, enabling users to design visual data flows on a canvas interface.\\n\\nKey Features:\\n- **Node-Based Workflow Design:** Users can create workflows by connecting nodes together in a drag-and-drop manner.\\n- **AI Model Integration:** Nodetool offers integration with multiple AI models from different providers such as Hugging Face for multimedia processing.\\n- **Visual Data Flow Visualization:** The workflow is visualized on a canvas, allowing users to see the connections and dependencies between different steps clearly.\\n- **Simplified AI Usage:** This platform makes complex AI workflows accessible without requiring advanced coding knowledge, making it perfect for both beginners and experienced professionals.\\n\\nUser Workflow: \\n1. Edit in the tab where \"Edit\" is located (likely an area for textual or visual editing).\\n2. Save your work using the button labeled \"Save\".\\n3. Run the workflow by clicking on the \"Play Button\".'},\n",
       " 'done_reason': 'stop',\n",
       " 'done': True,\n",
       " 'total_duration': 3550426948,\n",
       " 'load_duration': 1948308358,\n",
       " 'prompt_eval_count': 388,\n",
       " 'prompt_eval_duration': 55282000,\n",
       " 'eval_count': 213,\n",
       " 'eval_duration': 1441290000}"
      ]
     },
     "execution_count": 2,
     "metadata": {},
     "output_type": "execute_result"
    }
   ],
   "source": [
    "import sys\n",
    "sys.path.append('../src')\n",
    "\n",
    "from nodetool.chat.help import prompt_for_help\n",
    "from nodetool.common.environment import Environment\n",
    "import ollama\n",
    "\n",
    "prompt = \"What is nodetool?\"\n",
    "content = prompt_for_help(\n",
    "    prompt, docs={}, examples=[], available_tutorials=[]\n",
    ")\n",
    "\n",
    "system_message = ollama.Message(\n",
    "    role=\"system\",\n",
    "    content=content,\n",
    ")\n",
    "ollama_messages = [ollama.Message(role=\"user\", content=prompt)]\n",
    "\n",
    "client = Environment.get_ollama_client()\n",
    "\n",
    "completion = await client.chat(\n",
    "    model=\"qwen2.5:1.5b\", messages=[system_message] + ollama_messages,\n",
    "    options={\"num_ctx\": 4096}\n",
    ")\n",
    "\n",
    "completion"
   ]
  },
  {
   "cell_type": "code",
   "execution_count": null,
   "metadata": {},
   "outputs": [],
   "source": []
  },
  {
   "cell_type": "code",
   "execution_count": null,
   "metadata": {},
   "outputs": [],
   "source": []
  },
  {
   "cell_type": "code",
   "execution_count": null,
   "metadata": {},
   "outputs": [],
   "source": []
  },
  {
   "cell_type": "code",
   "execution_count": null,
   "metadata": {},
   "outputs": [],
   "source": []
  },
  {
   "cell_type": "code",
   "execution_count": null,
   "metadata": {},
   "outputs": [],
   "source": []
  }
 ],
 "metadata": {
  "kernelspec": {
   "display_name": "genflow",
   "language": "python",
   "name": "python3"
  },
  "language_info": {
   "codemirror_mode": {
    "name": "ipython",
    "version": 3
   },
   "file_extension": ".py",
   "mimetype": "text/x-python",
   "name": "python",
   "nbconvert_exporter": "python",
   "pygments_lexer": "ipython3",
   "version": "3.10.12"
  }
 },
 "nbformat": 4,
 "nbformat_minor": 2
}
