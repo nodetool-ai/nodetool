{
 "cells": [
  {
   "cell_type": "code",
   "execution_count": 5,
   "metadata": {},
   "outputs": [
    {
     "name": "stderr",
     "output_type": "stream",
     "text": [
      "INFO:httpx:HTTP Request: POST http://localhost:11434/api/chat \"HTTP/1.1 200 OK\"\n"
     ]
    },
    {
     "data": {
      "text/plain": [
       "{'model': 'qwen2.5:1.5b',\n",
       " 'created_at': '2024-10-11T19:55:21.323716Z',\n",
       " 'message': {'role': 'assistant',\n",
       "  'content': 'The capital of France, my mate, is Paris.'},\n",
       " 'done_reason': 'stop',\n",
       " 'done': True,\n",
       " 'total_duration': 853897500,\n",
       " 'load_duration': 53486542,\n",
       " 'prompt_eval_count': 24,\n",
       " 'prompt_eval_duration': 589832000,\n",
       " 'eval_count': 12,\n",
       " 'eval_duration': 205126000}"
      ]
     },
     "execution_count": 5,
     "metadata": {},
     "output_type": "execute_result"
    }
   ],
   "source": [
    "import sys\n",
    "sys.path.append('../src')\n",
    "\n",
    "from nodetool.chat.help import system_prompt_for\n",
    "from nodetool.common.environment import Environment\n",
    "import ollama\n",
    "\n",
    "prompt = \"How do I create a node?\"\n",
    "content = system_prompt_for(\n",
    "    prompt, docs={}, examples=[], available_tutorials=[]\n",
    ")\n",
    "\n",
    "system_message = ollama.Message(\n",
    "    role=\"system\",\n",
    "    content=content,\n",
    ")\n",
    "ollama_messages = [ollama.Message(role=\"user\", content=prompt)]\n",
    "\n",
    "client = Environment.get_ollama_client()\n",
    "\n",
    "completion = await client.chat(\n",
    "    model=\"qwen2.5:1.5b\", messages=[system_message] + ollama_messages\n",
    ")\n",
    "\n",
    "completion"
   ]
  },
  {
   "cell_type": "code",
   "execution_count": null,
   "metadata": {},
   "outputs": [],
   "source": []
  },
  {
   "cell_type": "code",
   "execution_count": null,
   "metadata": {},
   "outputs": [],
   "source": []
  }
 ],
 "metadata": {
  "kernelspec": {
   "display_name": "genflow",
   "language": "python",
   "name": "python3"
  },
  "language_info": {
   "codemirror_mode": {
    "name": "ipython",
    "version": 3
   },
   "file_extension": ".py",
   "mimetype": "text/x-python",
   "name": "python",
   "nbconvert_exporter": "python",
   "pygments_lexer": "ipython3",
   "version": "3.11.9"
  }
 },
 "nbformat": 4,
 "nbformat_minor": 2
}
